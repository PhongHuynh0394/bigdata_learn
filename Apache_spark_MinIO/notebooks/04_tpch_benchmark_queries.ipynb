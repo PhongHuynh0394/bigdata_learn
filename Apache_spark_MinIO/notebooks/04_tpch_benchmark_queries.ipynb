{
 "cells": [
  {
   "cell_type": "markdown",
   "id": "f83d8daf-eeec-485e-ad5b-80955fa9e00a",
   "metadata": {},
   "source": [
    "# Init SparkContext"
   ]
  },
  {
   "cell_type": "code",
   "execution_count": 1,
   "id": "121a3dd8-b5db-4d30-9e3a-7366f6397990",
   "metadata": {},
   "outputs": [],
   "source": [
    "import os\n",
    "from datetime import datetime\n",
    "from pyspark import SparkContext, HiveContext\n",
    "from pyspark.sql import SparkSession, SQLContext\n",
    "import pyspark.sql.functions as sf"
   ]
  },
  {
   "cell_type": "code",
   "execution_count": 2,
   "id": "5cda7e32-256b-475e-810d-33a0a3df3a4d",
   "metadata": {},
   "outputs": [
    {
     "name": "stderr",
     "output_type": "stream",
     "text": [
      "/usr/local/spark/python/pyspark/sql/context.py:112: FutureWarning: Deprecated in 3.0.0. Use SparkSession.builder.getOrCreate() instead.\n",
      "  warnings.warn(\n"
     ]
    }
   ],
   "source": [
    "spark = (SparkSession.builder.appName(\"tpch-benchmark-{}\".format(datetime.today()))\n",
    "        .master(\"spark://spark-master:7077\")      \n",
    "        .getOrCreate())\n",
    "\n",
    "sqlContext = SQLContext(spark)"
   ]
  },
  {
   "cell_type": "code",
   "execution_count": null,
   "id": "cc652a8b-137f-45e7-9083-15131b5ea8e6",
   "metadata": {},
   "outputs": [],
   "source": []
  },
  {
   "cell_type": "markdown",
   "id": "5bfb2f1f-dd06-42e6-922a-c5933fff1437",
   "metadata": {},
   "source": [
    "# Load and create Catalog table"
   ]
  },
  {
   "cell_type": "code",
   "execution_count": 3,
   "id": "372c0618-b072-457f-ac22-e0de0f416f3a",
   "metadata": {},
   "outputs": [
    {
     "name": "stdout",
     "output_type": "stream",
     "text": [
      "+---------+\n",
      "|namespace|\n",
      "+---------+\n",
      "|  default|\n",
      "+---------+\n",
      "\n"
     ]
    }
   ],
   "source": [
    "spark.sql(\"SHOW databases\").show()\n"
   ]
  },
  {
   "cell_type": "code",
   "execution_count": 4,
   "id": "068ce5fb-1779-49cd-a9ef-518d8d9e58ae",
   "metadata": {},
   "outputs": [
    {
     "name": "stdout",
     "output_type": "stream",
     "text": [
      "+---------+---------+-----------+\n",
      "|namespace|tableName|isTemporary|\n",
      "+---------+---------+-----------+\n",
      "+---------+---------+-----------+\n",
      "\n"
     ]
    }
   ],
   "source": [
    "spark.sql(\"SHOW tables\").show()"
   ]
  },
  {
   "cell_type": "code",
   "execution_count": 5,
   "id": "381e0278-01a1-4676-9df3-14f1993b0626",
   "metadata": {},
   "outputs": [],
   "source": [
    "ls_files = [\n",
    "    \"h_customer.dsv\",\n",
    "    \"h_lineitem.dsv\",\n",
    "    \"h_nation.dsv\",\n",
    "    \"h_order.dsv\",\n",
    "    \"h_part.dsv\",\n",
    "    \"h_partsupp.dsv\",\n",
    "    \"h_region.csv\",\n",
    "    \"h_supplier.dsv\",\n",
    "]"
   ]
  },
  {
   "cell_type": "code",
   "execution_count": null,
   "id": "21000c22-07bb-45cd-abbe-280e1a97988b",
   "metadata": {},
   "outputs": [],
   "source": []
  },
  {
   "cell_type": "code",
   "execution_count": null,
   "id": "5693b08c-5dab-4612-b891-1c5eab425968",
   "metadata": {},
   "outputs": [
    {
     "name": "stdout",
     "output_type": "stream",
     "text": [
      "Loading customer\n",
      "root\n",
      " |-- C_CUSTKEY: integer (nullable = true)\n",
      " |-- C_NAME: string (nullable = true)\n",
      " |-- C_ADDRESS: string (nullable = true)\n",
      " |-- C_NATIONKEY: integer (nullable = true)\n",
      " |-- C_PHONE: string (nullable = true)\n",
      " |-- C_ACCTBAL: string (nullable = true)\n",
      " |-- C_MKTSEGMENT: string (nullable = true)\n",
      " |-- C_COMMENT: string (nullable = true)\n",
      "\n"
     ]
    },
    {
     "data": {
      "text/html": [
       "<div>\n",
       "<style scoped>\n",
       "    .dataframe tbody tr th:only-of-type {\n",
       "        vertical-align: middle;\n",
       "    }\n",
       "\n",
       "    .dataframe tbody tr th {\n",
       "        vertical-align: top;\n",
       "    }\n",
       "\n",
       "    .dataframe thead th {\n",
       "        text-align: right;\n",
       "    }\n",
       "</style>\n",
       "<table border=\"1\" class=\"dataframe\">\n",
       "  <thead>\n",
       "    <tr style=\"text-align: right;\">\n",
       "      <th></th>\n",
       "      <th>C_CUSTKEY</th>\n",
       "      <th>C_NAME</th>\n",
       "      <th>C_ADDRESS</th>\n",
       "      <th>C_NATIONKEY</th>\n",
       "      <th>C_PHONE</th>\n",
       "      <th>C_ACCTBAL</th>\n",
       "      <th>C_MKTSEGMENT</th>\n",
       "      <th>C_COMMENT</th>\n",
       "    </tr>\n",
       "  </thead>\n",
       "  <tbody>\n",
       "    <tr>\n",
       "      <th>0</th>\n",
       "      <td>3087</td>\n",
       "      <td>Customer#0000003087</td>\n",
       "      <td>R6k2NmyigwP0gPNR2yg2226g2RN</td>\n",
       "      <td>16</td>\n",
       "      <td>117-398-8428</td>\n",
       "      <td>6168,09</td>\n",
       "      <td>HOUSEHOLD</td>\n",
       "      <td>blithely final theodolites try to hang ironica...</td>\n",
       "    </tr>\n",
       "    <tr>\n",
       "      <th>1</th>\n",
       "      <td>3089</td>\n",
       "      <td>Customer#0000003089</td>\n",
       "      <td>00NB2ywNkRg6kwkgk</td>\n",
       "      <td>9</td>\n",
       "      <td>626-408-9521</td>\n",
       "      <td>9423,01</td>\n",
       "      <td>BUILDING</td>\n",
       "      <td>permanently close tithes are of .</td>\n",
       "    </tr>\n",
       "    <tr>\n",
       "      <th>2</th>\n",
       "      <td>3092</td>\n",
       "      <td>Customer#0000003092</td>\n",
       "      <td>2kmPi6Bm m6wkwk2RRB2kgi0yyLyPk</td>\n",
       "      <td>12</td>\n",
       "      <td>330-709-7828</td>\n",
       "      <td>1653,94</td>\n",
       "      <td>AUTOMOBILE</td>\n",
       "      <td>quietly even somas beside thrash fluffily at .</td>\n",
       "    </tr>\n",
       "    <tr>\n",
       "      <th>3</th>\n",
       "      <td>3093</td>\n",
       "      <td>Customer#0000003093</td>\n",
       "      <td>g Nii PkLw2mwBNP2Ni04g04PRPLN0Rk6Pi4</td>\n",
       "      <td>18</td>\n",
       "      <td>656-420-2897</td>\n",
       "      <td>9718,37</td>\n",
       "      <td>FURNITURE</td>\n",
       "      <td>blithely pending pinto beans nag blithely .</td>\n",
       "    </tr>\n",
       "    <tr>\n",
       "      <th>4</th>\n",
       "      <td>3100</td>\n",
       "      <td>Customer#0000003100</td>\n",
       "      <td>242y4 w264y4B0Pg 60yiwNgLkN6R0wkywkPmii</td>\n",
       "      <td>23</td>\n",
       "      <td>424-440-1544</td>\n",
       "      <td>5945,43</td>\n",
       "      <td>FURNITURE</td>\n",
       "      <td>express requests was quickly above .</td>\n",
       "    </tr>\n",
       "  </tbody>\n",
       "</table>\n",
       "</div>"
      ],
      "text/plain": [
       "   C_CUSTKEY               C_NAME                                C_ADDRESS  \\\n",
       "0       3087  Customer#0000003087              R6k2NmyigwP0gPNR2yg2226g2RN   \n",
       "1       3089  Customer#0000003089                        00NB2ywNkRg6kwkgk   \n",
       "2       3092  Customer#0000003092           2kmPi6Bm m6wkwk2RRB2kgi0yyLyPk   \n",
       "3       3093  Customer#0000003093     g Nii PkLw2mwBNP2Ni04g04PRPLN0Rk6Pi4   \n",
       "4       3100  Customer#0000003100  242y4 w264y4B0Pg 60yiwNgLkN6R0wkywkPmii   \n",
       "\n",
       "   C_NATIONKEY          C_PHONE C_ACCTBAL C_MKTSEGMENT  \\\n",
       "0           16  117-398-8428      6168,09   HOUSEHOLD    \n",
       "1            9  626-408-9521      9423,01   BUILDING     \n",
       "2           12  330-709-7828      1653,94   AUTOMOBILE   \n",
       "3           18  656-420-2897      9718,37   FURNITURE    \n",
       "4           23  424-440-1544      5945,43   FURNITURE    \n",
       "\n",
       "                                           C_COMMENT  \n",
       "0  blithely final theodolites try to hang ironica...  \n",
       "1                  permanently close tithes are of .  \n",
       "2     quietly even somas beside thrash fluffily at .  \n",
       "3        blithely pending pinto beans nag blithely .  \n",
       "4               express requests was quickly above .  "
      ]
     },
     "metadata": {},
     "output_type": "display_data"
    },
    {
     "name": "stdout",
     "output_type": "stream",
     "text": [
      "Loading lineitem\n"
     ]
    }
   ],
   "source": [
    "base_path = \"s3a://warehouse/tpch_data\"\n",
    "\n",
    "for file in ls_files:\n",
    "    file_name, ext = file.split(\".\")\n",
    "    prefix, table_name = file_name.split(\"_\")\n",
    "    print(\"Loading\", table_name)\n",
    "    \n",
    "    delimeter = \",\" if ext == \"csv\" else \"|\"\n",
    "    df_data = (\n",
    "        spark.read.option(\"delimiter\", delimeter)\n",
    "        .option(\"header\", True)\n",
    "        .option(\"inferSchema\" , True)\n",
    "        .csv(os.path.join(base_path, file))\n",
    "    )\n",
    "    \n",
    "    # date convert\n",
    "    for col in df_data.columns:\n",
    "        if \"date\" in col.lower():\n",
    "            df_data = df_data.withColumn(col, sf.date_sub(sf.to_date(col, \"dd.MM.yy\"), 365 * 100))\n",
    "    \n",
    "    # print info\n",
    "    df_data.printSchema()\n",
    "    display(df_data.limit(5).toPandas())\n",
    "    \n",
    "    # register temporary view\n",
    "    df_data.createOrReplaceTempView(table_name)"
   ]
  },
  {
   "cell_type": "code",
   "execution_count": 13,
   "id": "9b305dcb-cb9c-45ff-955f-b008b1bac0b6",
   "metadata": {},
   "outputs": [
    {
     "name": "stdout",
     "output_type": "stream",
     "text": [
      "+---------+---------+-----------+\n",
      "|namespace|tableName|isTemporary|\n",
      "+---------+---------+-----------+\n",
      "|         | customer|      false|\n",
      "|         | lineitem|      false|\n",
      "|         |   nation|      false|\n",
      "|         |    order|      false|\n",
      "|         |     part|      false|\n",
      "|         | partsupp|      false|\n",
      "|         |   region|      false|\n",
      "|         | supplier|      false|\n",
      "+---------+---------+-----------+\n",
      "\n"
     ]
    }
   ],
   "source": [
    "spark.sql(\"SHOW TABLES\").show()"
   ]
  },
  {
   "cell_type": "code",
   "execution_count": null,
   "id": "ec585856-254e-4b8d-81f2-2d1c040ad6de",
   "metadata": {},
   "outputs": [],
   "source": []
  },
  {
   "cell_type": "markdown",
   "id": "bb488d32-bcd8-4fd5-b0be-b6ebe4f1fddf",
   "metadata": {},
   "source": [
    "# Benchmark"
   ]
  },
  {
   "cell_type": "markdown",
   "id": "60efdf8f-7cda-406e-b73b-7e0a1a8dc6ad",
   "metadata": {},
   "source": [
    "## 1. Group by, Order by"
   ]
  },
  {
   "cell_type": "code",
   "execution_count": 18,
   "id": "e7c3553c-bc1a-4eaa-b632-5239e2dc82e7",
   "metadata": {},
   "outputs": [
    {
     "name": "stdout",
     "output_type": "stream",
     "text": [
      "2min 58s ± 24.2 s per loop (mean ± std. dev. of 4 runs, 1 loop each)\n"
     ]
    }
   ],
   "source": [
    "%%timeit -r 4\n",
    "\n",
    "sql_stm = \"\"\"\n",
    "-- 1\n",
    "select\n",
    "\tl_returnflag,\n",
    "\tl_linestatus,\n",
    "\tsum(l_quantity) as sum_qty,\n",
    "\tsum(l_extendedprice) as sum_base_price,\n",
    "\tsum(l_extendedprice * (1 - l_discount)) as sum_disc_price,\n",
    "\tsum(l_extendedprice * (1 - l_discount) * (1 + l_tax)) as sum_charge,\n",
    "\tavg(l_quantity) as avg_qty,\n",
    "\tavg(l_extendedprice) as avg_price,\n",
    "\tavg(l_discount) as avg_disc,\n",
    "\tcount(*) as count_order\n",
    "from\n",
    "\tlineitem\n",
    "group by\n",
    "\tl_returnflag,\n",
    "\tl_linestatus\n",
    "order by\n",
    "\tl_returnflag,\n",
    "\tl_linestatus;\n",
    "\"\"\"\n",
    "spark.sql(sql_stm).limit(20).toPandas()"
   ]
  },
  {
   "cell_type": "code",
   "execution_count": null,
   "id": "853588c4-7a70-492b-be6e-6a9649909fd5",
   "metadata": {},
   "outputs": [],
   "source": []
  },
  {
   "cell_type": "markdown",
   "id": "6f7c3ef2-6406-4b43-9040-88f60cf5c81f",
   "metadata": {},
   "source": [
    "## Compressed and repartition files"
   ]
  },
  {
   "cell_type": "code",
   "execution_count": 14,
   "id": "9a9adb26-9e3b-41e6-b758-f78ce7601280",
   "metadata": {},
   "outputs": [
    {
     "ename": "AnalysisException",
     "evalue": "path s3a://warehouse/outputs/lineitem already exists.",
     "output_type": "error",
     "traceback": [
      "\u001b[0;31m---------------------------------------------------------------------------\u001b[0m",
      "\u001b[0;31mAnalysisException\u001b[0m                         Traceback (most recent call last)",
      "Cell \u001b[0;32mIn [14], line 1\u001b[0m\n\u001b[0;32m----> 1\u001b[0m \u001b[43mspark\u001b[49m\u001b[38;5;241;43m.\u001b[39;49m\u001b[43msql\u001b[49m\u001b[43m(\u001b[49m\u001b[38;5;124;43m\"\u001b[39;49m\u001b[38;5;124;43mselect * from lineitem\u001b[39;49m\u001b[38;5;124;43m\"\u001b[39;49m\u001b[43m)\u001b[49m\u001b[38;5;241;43m.\u001b[39;49m\u001b[43mrepartition\u001b[49m\u001b[43m(\u001b[49m\u001b[38;5;241;43m6\u001b[39;49m\u001b[43m)\u001b[49m\u001b[38;5;241;43m.\u001b[39;49m\u001b[43mwrite\u001b[49m\u001b[38;5;241;43m.\u001b[39;49m\u001b[43mparquet\u001b[49m\u001b[43m(\u001b[49m\u001b[38;5;124;43m\"\u001b[39;49m\u001b[38;5;124;43ms3a://warehouse/outputs/lineitem\u001b[39;49m\u001b[38;5;124;43m\"\u001b[39;49m\u001b[43m)\u001b[49m\n",
      "File \u001b[0;32m/usr/local/spark/python/pyspark/sql/readwriter.py:1140\u001b[0m, in \u001b[0;36mDataFrameWriter.parquet\u001b[0;34m(self, path, mode, partitionBy, compression)\u001b[0m\n\u001b[1;32m   1138\u001b[0m     \u001b[38;5;28mself\u001b[39m\u001b[38;5;241m.\u001b[39mpartitionBy(partitionBy)\n\u001b[1;32m   1139\u001b[0m \u001b[38;5;28mself\u001b[39m\u001b[38;5;241m.\u001b[39m_set_opts(compression\u001b[38;5;241m=\u001b[39mcompression)\n\u001b[0;32m-> 1140\u001b[0m \u001b[38;5;28;43mself\u001b[39;49m\u001b[38;5;241;43m.\u001b[39;49m\u001b[43m_jwrite\u001b[49m\u001b[38;5;241;43m.\u001b[39;49m\u001b[43mparquet\u001b[49m\u001b[43m(\u001b[49m\u001b[43mpath\u001b[49m\u001b[43m)\u001b[49m\n",
      "File \u001b[0;32m/usr/local/spark/python/lib/py4j-0.10.9.5-src.zip/py4j/java_gateway.py:1321\u001b[0m, in \u001b[0;36mJavaMember.__call__\u001b[0;34m(self, *args)\u001b[0m\n\u001b[1;32m   1315\u001b[0m command \u001b[38;5;241m=\u001b[39m proto\u001b[38;5;241m.\u001b[39mCALL_COMMAND_NAME \u001b[38;5;241m+\u001b[39m\\\n\u001b[1;32m   1316\u001b[0m     \u001b[38;5;28mself\u001b[39m\u001b[38;5;241m.\u001b[39mcommand_header \u001b[38;5;241m+\u001b[39m\\\n\u001b[1;32m   1317\u001b[0m     args_command \u001b[38;5;241m+\u001b[39m\\\n\u001b[1;32m   1318\u001b[0m     proto\u001b[38;5;241m.\u001b[39mEND_COMMAND_PART\n\u001b[1;32m   1320\u001b[0m answer \u001b[38;5;241m=\u001b[39m \u001b[38;5;28mself\u001b[39m\u001b[38;5;241m.\u001b[39mgateway_client\u001b[38;5;241m.\u001b[39msend_command(command)\n\u001b[0;32m-> 1321\u001b[0m return_value \u001b[38;5;241m=\u001b[39m \u001b[43mget_return_value\u001b[49m\u001b[43m(\u001b[49m\n\u001b[1;32m   1322\u001b[0m \u001b[43m    \u001b[49m\u001b[43manswer\u001b[49m\u001b[43m,\u001b[49m\u001b[43m \u001b[49m\u001b[38;5;28;43mself\u001b[39;49m\u001b[38;5;241;43m.\u001b[39;49m\u001b[43mgateway_client\u001b[49m\u001b[43m,\u001b[49m\u001b[43m \u001b[49m\u001b[38;5;28;43mself\u001b[39;49m\u001b[38;5;241;43m.\u001b[39;49m\u001b[43mtarget_id\u001b[49m\u001b[43m,\u001b[49m\u001b[43m \u001b[49m\u001b[38;5;28;43mself\u001b[39;49m\u001b[38;5;241;43m.\u001b[39;49m\u001b[43mname\u001b[49m\u001b[43m)\u001b[49m\n\u001b[1;32m   1324\u001b[0m \u001b[38;5;28;01mfor\u001b[39;00m temp_arg \u001b[38;5;129;01min\u001b[39;00m temp_args:\n\u001b[1;32m   1325\u001b[0m     temp_arg\u001b[38;5;241m.\u001b[39m_detach()\n",
      "File \u001b[0;32m/usr/local/spark/python/pyspark/sql/utils.py:196\u001b[0m, in \u001b[0;36mcapture_sql_exception.<locals>.deco\u001b[0;34m(*a, **kw)\u001b[0m\n\u001b[1;32m    192\u001b[0m converted \u001b[38;5;241m=\u001b[39m convert_exception(e\u001b[38;5;241m.\u001b[39mjava_exception)\n\u001b[1;32m    193\u001b[0m \u001b[38;5;28;01mif\u001b[39;00m \u001b[38;5;129;01mnot\u001b[39;00m \u001b[38;5;28misinstance\u001b[39m(converted, UnknownException):\n\u001b[1;32m    194\u001b[0m     \u001b[38;5;66;03m# Hide where the exception came from that shows a non-Pythonic\u001b[39;00m\n\u001b[1;32m    195\u001b[0m     \u001b[38;5;66;03m# JVM exception message.\u001b[39;00m\n\u001b[0;32m--> 196\u001b[0m     \u001b[38;5;28;01mraise\u001b[39;00m converted \u001b[38;5;28;01mfrom\u001b[39;00m \u001b[38;5;28mNone\u001b[39m\n\u001b[1;32m    197\u001b[0m \u001b[38;5;28;01melse\u001b[39;00m:\n\u001b[1;32m    198\u001b[0m     \u001b[38;5;28;01mraise\u001b[39;00m\n",
      "\u001b[0;31mAnalysisException\u001b[0m: path s3a://warehouse/outputs/lineitem already exists."
     ]
    }
   ],
   "source": [
    "spark.sql(\"select * from lineitem\").repartition(6).write.parquet(\"s3a://warehouse/outputs/lineitem\")                    "
   ]
  },
  {
   "cell_type": "code",
   "execution_count": 16,
   "id": "6bd86120-c24c-4031-aeab-8e1eab24f9c4",
   "metadata": {},
   "outputs": [],
   "source": [
    "# register temporary view\n",
    "df_data = spark.read.parquet(\"s3a://warehouse/outputs/lineitem\")\n",
    "df_data.createOrReplaceTempView(\"lineitem_parts\")"
   ]
  },
  {
   "cell_type": "code",
   "execution_count": 17,
   "id": "a3db701e-b8d7-4123-81f5-1e4bbb583857",
   "metadata": {},
   "outputs": [
    {
     "name": "stdout",
     "output_type": "stream",
     "text": [
      "53.9 s ± 1.18 s per loop (mean ± std. dev. of 4 runs, 1 loop each)\n"
     ]
    }
   ],
   "source": [
    "%%timeit -r 4\n",
    "\n",
    "sql_stm = \"\"\"\n",
    "-- 1\n",
    "select\n",
    "\tl_returnflag,\n",
    "\tl_linestatus,\n",
    "\tsum(l_quantity) as sum_qty,\n",
    "\tsum(l_extendedprice) as sum_base_price,\n",
    "\tsum(l_extendedprice * (1 - l_discount)) as sum_disc_price,\n",
    "\tsum(l_extendedprice * (1 - l_discount) * (1 + l_tax)) as sum_charge,\n",
    "\tavg(l_quantity) as avg_qty,\n",
    "\tavg(l_extendedprice) as avg_price,\n",
    "\tavg(l_discount) as avg_disc,\n",
    "\tcount(*) as count_order\n",
    "from\n",
    "\tlineitem_parts\n",
    "group by\n",
    "\tl_returnflag,\n",
    "\tl_linestatus\n",
    "order by\n",
    "\tl_returnflag,\n",
    "\tl_linestatus;\n",
    "\"\"\"\n",
    "spark.sql(sql_stm).limit(20).toPandas()"
   ]
  },
  {
   "cell_type": "code",
   "execution_count": null,
   "id": "93caab01-9b08-42e7-a1e9-037359b8b775",
   "metadata": {},
   "outputs": [],
   "source": []
  },
  {
   "cell_type": "markdown",
   "id": "ba21b2b8-ab71-48b8-980e-121218f94ab8",
   "metadata": {},
   "source": [
    "## 2. Join, Group By, Order By"
   ]
  },
  {
   "cell_type": "code",
   "execution_count": null,
   "id": "a6647dae-90a9-48d6-995b-a2e59887db6d",
   "metadata": {},
   "outputs": [],
   "source": [
    "%%timeit -r 4\n",
    "\n",
    "sql_stm = \"\"\"\n",
    "--3\n",
    "select\n",
    "\tl_orderkey,\n",
    "\tsum(l_extendedprice * (1 - l_discount)) as revenue,\n",
    "\to_orderdate,\n",
    "\to_shippriority\n",
    "from\n",
    "\tcustomer,\n",
    "\torder,\n",
    "\tlineitem\n",
    "where\n",
    "\tc_mktsegment = 'AUTOMOBILE'\n",
    "\tand c_custkey = o_custkey\n",
    "\tand l_orderkey = o_orderkey\n",
    "group by\n",
    "\tl_orderkey,\n",
    "\to_orderdate,\n",
    "\to_shippriority\n",
    "order by\n",
    "\trevenue desc,\n",
    "\to_orderdate\n",
    "\"\"\"\n",
    "spark.sql(sql_stm).show()"
   ]
  },
  {
   "cell_type": "code",
   "execution_count": null,
   "id": "9d2642cd-e06d-4243-b2b6-a0c4e3e5f571",
   "metadata": {},
   "outputs": [],
   "source": []
  },
  {
   "cell_type": "markdown",
   "id": "23488739-0b69-45f6-85be-7fa6f331bdef",
   "metadata": {},
   "source": [
    "## 3. Sub queries, Join, Group by, Order by"
   ]
  },
  {
   "cell_type": "code",
   "execution_count": null,
   "id": "6dca5fcc-9e21-426f-8c07-831396ae0439",
   "metadata": {},
   "outputs": [],
   "source": [
    "%%timeit -r 4\n",
    "\n",
    "sql_stm = \"\"\"\n",
    "select\n",
    "\tsupp_nation,\n",
    "\tcust_nation,\n",
    "\tl_year,\n",
    "\tsum(volume) as revenue\n",
    "from\n",
    "\t(\n",
    "\t\tselect\n",
    "\t\t\tn1.n_name as supp_nation,\n",
    "\t\t\tn2.n_name as cust_nation,\n",
    "\t\t\textract(year from l_shipdate) as l_year,\n",
    "\t\t\tl_extendedprice * (1 - l_discount) as volume\n",
    "\t\tfrom\n",
    "\t\t\tsupplier,\n",
    "\t\t\tlineitem,\n",
    "\t\t\torder,\n",
    "\t\t\tcustomer,\n",
    "\t\t\tnation n1,\n",
    "\t\t\tnation n2\n",
    "\t\twhere\n",
    "\t\t\ts_suppkey = l_suppkey\n",
    "\t\t\tand o_orderkey = l_orderkey\n",
    "\t\t\tand c_custkey = o_custkey\n",
    "\t\t\tand s_nationkey = n1.n_nationkey\n",
    "\t\t\tand c_nationkey = n2.n_nationkey\n",
    "\t\t\tand l_shipdate between date '1995-01-01' and date '1996-12-31'\n",
    "\t) as shipping\n",
    "group by\n",
    "\tsupp_nation,\n",
    "\tcust_nation,\n",
    "\tl_year\n",
    "order by\n",
    "\tsupp_nation,\n",
    "\tcust_nation,\n",
    "\tl_year;\n",
    "\"\"\"\n",
    "spark.sql(sql_stm).show()"
   ]
  },
  {
   "cell_type": "code",
   "execution_count": null,
   "id": "392ae0f9-9705-4768-b965-070188203a40",
   "metadata": {},
   "outputs": [],
   "source": []
  }
 ],
 "metadata": {
  "kernelspec": {
   "display_name": "Python 3 (ipykernel)",
   "language": "python",
   "name": "python3"
  },
  "language_info": {
   "codemirror_mode": {
    "name": "ipython",
    "version": 3
   },
   "file_extension": ".py",
   "mimetype": "text/x-python",
   "name": "python",
   "nbconvert_exporter": "python",
   "pygments_lexer": "ipython3",
   "version": "3.8.13"
  }
 },
 "nbformat": 4,
 "nbformat_minor": 5
}
