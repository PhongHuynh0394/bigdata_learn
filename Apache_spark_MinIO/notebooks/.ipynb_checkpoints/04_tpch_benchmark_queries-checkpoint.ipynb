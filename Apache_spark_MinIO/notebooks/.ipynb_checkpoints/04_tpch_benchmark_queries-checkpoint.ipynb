{
 "cells": [
  {
   "cell_type": "markdown",
   "id": "f83d8daf-eeec-485e-ad5b-80955fa9e00a",
   "metadata": {},
   "source": [
    "# Init SparkContext"
   ]
  },
  {
   "cell_type": "code",
   "execution_count": null,
   "id": "121a3dd8-b5db-4d30-9e3a-7366f6397990",
   "metadata": {},
   "outputs": [],
   "source": [
    "import os\n",
    "from datetime import datetime\n",
    "from pyspark import SparkContext, HiveContext\n",
    "from pyspark.sql import SparkSession, SQLContext\n",
    "import pyspark.sql.functions as sf"
   ]
  },
  {
   "cell_type": "code",
   "execution_count": null,
   "id": "5cda7e32-256b-475e-810d-33a0a3df3a4d",
   "metadata": {},
   "outputs": [],
   "source": [
    "spark = (SparkSession.builder.appName(\"tpch-benchmark-{}\".format(datetime.today()))\n",
    "        .master(\"spark://spark-master:7077\")      \n",
    "        .getOrCreate())\n",
    "\n",
    "sqlContext = SQLContext(spark)"
   ]
  },
  {
   "cell_type": "code",
   "execution_count": null,
   "id": "cc652a8b-137f-45e7-9083-15131b5ea8e6",
   "metadata": {},
   "outputs": [],
   "source": []
  },
  {
   "cell_type": "markdown",
   "id": "5bfb2f1f-dd06-42e6-922a-c5933fff1437",
   "metadata": {},
   "source": [
    "# Load and create Catalog table"
   ]
  },
  {
   "cell_type": "code",
   "execution_count": null,
   "id": "372c0618-b072-457f-ac22-e0de0f416f3a",
   "metadata": {},
   "outputs": [],
   "source": [
    "spark.sql(\"SHOW databases\").show()\n"
   ]
  },
  {
   "cell_type": "code",
   "execution_count": null,
   "id": "068ce5fb-1779-49cd-a9ef-518d8d9e58ae",
   "metadata": {},
   "outputs": [],
   "source": [
    "spark.sql(\"SHOW tables\").show()"
   ]
  },
  {
   "cell_type": "code",
   "execution_count": null,
   "id": "381e0278-01a1-4676-9df3-14f1993b0626",
   "metadata": {},
   "outputs": [],
   "source": [
    "ls_files = [\n",
    "    \"h_customer.dsv\",\n",
    "    \"h_lineitem.dsv\",\n",
    "    \"h_nation.dsv\",\n",
    "    \"h_order.dsv\",\n",
    "    \"h_part.dsv\",\n",
    "    \"h_partsupp.dsv\",\n",
    "    \"h_region.csv\",\n",
    "    \"h_supplier.dsv\",\n",
    "]"
   ]
  },
  {
   "cell_type": "code",
   "execution_count": null,
   "id": "21000c22-07bb-45cd-abbe-280e1a97988b",
   "metadata": {},
   "outputs": [],
   "source": []
  },
  {
   "cell_type": "code",
   "execution_count": null,
   "id": "5693b08c-5dab-4612-b891-1c5eab425968",
   "metadata": {},
   "outputs": [],
   "source": [
    "base_path = \"s3a://warehouse/tpch_data\"\n",
    "\n",
    "for file in ls_files:\n",
    "    file_name, ext = file.split(\".\")\n",
    "    prefix, table_name = file_name.split(\"_\")\n",
    "    print(\"Loading\", table_name)\n",
    "    \n",
    "    delimeter = \",\" if ext == \"csv\" else \"|\"\n",
    "    df_data = (\n",
    "        spark.read.option(\"delimiter\", delimeter)\n",
    "        .option(\"header\", True)\n",
    "        .option(\"inferSchema\" , True)\n",
    "        .csv(os.path.join(base_path, file))\n",
    "    )\n",
    "    \n",
    "    # date convert\n",
    "    for col in df_data.columns:\n",
    "        if \"date\" in col.lower():\n",
    "            df_data = df_data.withColumn(col, sf.date_sub(sf.to_date(col, \"dd.MM.yy\"), 365 * 100))\n",
    "    \n",
    "    # print info\n",
    "    df_data.printSchema()\n",
    "    display(df_data.limit(5).toPandas())\n",
    "    \n",
    "    # register temporary view\n",
    "    df_data.createOrReplaceTempView(table_name)"
   ]
  },
  {
   "cell_type": "code",
   "execution_count": null,
   "id": "9b305dcb-cb9c-45ff-955f-b008b1bac0b6",
   "metadata": {},
   "outputs": [],
   "source": [
    "spark.sql(\"SHOW TABLES\").show()"
   ]
  },
  {
   "cell_type": "code",
   "execution_count": null,
   "id": "ec585856-254e-4b8d-81f2-2d1c040ad6de",
   "metadata": {},
   "outputs": [],
   "source": []
  },
  {
   "cell_type": "markdown",
   "id": "bb488d32-bcd8-4fd5-b0be-b6ebe4f1fddf",
   "metadata": {},
   "source": [
    "# Benchmark"
   ]
  },
  {
   "cell_type": "markdown",
   "id": "60efdf8f-7cda-406e-b73b-7e0a1a8dc6ad",
   "metadata": {},
   "source": [
    "## 1. Group by, Order by"
   ]
  },
  {
   "cell_type": "code",
   "execution_count": null,
   "id": "e7c3553c-bc1a-4eaa-b632-5239e2dc82e7",
   "metadata": {},
   "outputs": [],
   "source": [
    "%%timeit -r 4\n",
    "\n",
    "sql_stm = \"\"\"\n",
    "-- 1\n",
    "select\n",
    "\tl_returnflag,\n",
    "\tl_linestatus,\n",
    "\tsum(l_quantity) as sum_qty,\n",
    "\tsum(l_extendedprice) as sum_base_price,\n",
    "\tsum(l_extendedprice * (1 - l_discount)) as sum_disc_price,\n",
    "\tsum(l_extendedprice * (1 - l_discount) * (1 + l_tax)) as sum_charge,\n",
    "\tavg(l_quantity) as avg_qty,\n",
    "\tavg(l_extendedprice) as avg_price,\n",
    "\tavg(l_discount) as avg_disc,\n",
    "\tcount(*) as count_order\n",
    "from\n",
    "\tlineitem\n",
    "group by\n",
    "\tl_returnflag,\n",
    "\tl_linestatus\n",
    "order by\n",
    "\tl_returnflag,\n",
    "\tl_linestatus;\n",
    "\"\"\"\n",
    "spark.sql(sql_stm).limit(20).toPandas()"
   ]
  },
  {
   "cell_type": "code",
   "execution_count": null,
   "id": "853588c4-7a70-492b-be6e-6a9649909fd5",
   "metadata": {},
   "outputs": [],
   "source": []
  },
  {
   "cell_type": "markdown",
   "id": "6f7c3ef2-6406-4b43-9040-88f60cf5c81f",
   "metadata": {},
   "source": [
    "## Compressed and repartition files"
   ]
  },
  {
   "cell_type": "code",
   "execution_count": null,
   "id": "9a9adb26-9e3b-41e6-b758-f78ce7601280",
   "metadata": {},
   "outputs": [],
   "source": [
    "spark.sql(\"select * from lineitem\").repartition(6).write.parquet(\"s3a://warehouse/outputs/lineitem\")"
   ]
  },
  {
   "cell_type": "code",
   "execution_count": null,
   "id": "6bd86120-c24c-4031-aeab-8e1eab24f9c4",
   "metadata": {},
   "outputs": [],
   "source": [
    "# register temporary view\n",
    "df_data = spark.read.parquet(\"s3a://warehouse/outputs/lineitem\")\n",
    "df_data.createOrReplaceTempView(\"lineitem_parts\")"
   ]
  },
  {
   "cell_type": "code",
   "execution_count": null,
   "id": "a3db701e-b8d7-4123-81f5-1e4bbb583857",
   "metadata": {},
   "outputs": [],
   "source": [
    "%%timeit -r 4\n",
    "\n",
    "sql_stm = \"\"\"\n",
    "-- 1\n",
    "select\n",
    "\tl_returnflag,\n",
    "\tl_linestatus,\n",
    "\tsum(l_quantity) as sum_qty,\n",
    "\tsum(l_extendedprice) as sum_base_price,\n",
    "\tsum(l_extendedprice * (1 - l_discount)) as sum_disc_price,\n",
    "\tsum(l_extendedprice * (1 - l_discount) * (1 + l_tax)) as sum_charge,\n",
    "\tavg(l_quantity) as avg_qty,\n",
    "\tavg(l_extendedprice) as avg_price,\n",
    "\tavg(l_discount) as avg_disc,\n",
    "\tcount(*) as count_order\n",
    "from\n",
    "\tlineitem_parts\n",
    "group by\n",
    "\tl_returnflag,\n",
    "\tl_linestatus\n",
    "order by\n",
    "\tl_returnflag,\n",
    "\tl_linestatus;\n",
    "\"\"\"\n",
    "spark.sql(sql_stm).limit(20).toPandas()"
   ]
  },
  {
   "cell_type": "code",
   "execution_count": null,
   "id": "93caab01-9b08-42e7-a1e9-037359b8b775",
   "metadata": {},
   "outputs": [],
   "source": []
  },
  {
   "cell_type": "markdown",
   "id": "ba21b2b8-ab71-48b8-980e-121218f94ab8",
   "metadata": {},
   "source": [
    "## 2. Join, Group By, Order By"
   ]
  },
  {
   "cell_type": "code",
   "execution_count": null,
   "id": "a6647dae-90a9-48d6-995b-a2e59887db6d",
   "metadata": {},
   "outputs": [],
   "source": [
    "%%timeit -r 4\n",
    "\n",
    "sql_stm = \"\"\"\n",
    "--3\n",
    "select\n",
    "\tl_orderkey,\n",
    "\tsum(l_extendedprice * (1 - l_discount)) as revenue,\n",
    "\to_orderdate,\n",
    "\to_shippriority\n",
    "from\n",
    "\tcustomer,\n",
    "\torder,\n",
    "\tlineitem\n",
    "where\n",
    "\tc_mktsegment = 'AUTOMOBILE'\n",
    "\tand c_custkey = o_custkey\n",
    "\tand l_orderkey = o_orderkey\n",
    "group by\n",
    "\tl_orderkey,\n",
    "\to_orderdate,\n",
    "\to_shippriority\n",
    "order by\n",
    "\trevenue desc,\n",
    "\to_orderdate\n",
    "\"\"\"\n",
    "spark.sql(sql_stm).show()"
   ]
  },
  {
   "cell_type": "code",
   "execution_count": null,
   "id": "9d2642cd-e06d-4243-b2b6-a0c4e3e5f571",
   "metadata": {},
   "outputs": [],
   "source": []
  },
  {
   "cell_type": "markdown",
   "id": "23488739-0b69-45f6-85be-7fa6f331bdef",
   "metadata": {},
   "source": [
    "## 3. Sub queries, Join, Group by, Order by"
   ]
  },
  {
   "cell_type": "code",
   "execution_count": null,
   "id": "6dca5fcc-9e21-426f-8c07-831396ae0439",
   "metadata": {},
   "outputs": [],
   "source": [
    "%%timeit -r 4\n",
    "\n",
    "sql_stm = \"\"\"\n",
    "select\n",
    "\tsupp_nation,\n",
    "\tcust_nation,\n",
    "\tl_year,\n",
    "\tsum(volume) as revenue\n",
    "from\n",
    "\t(\n",
    "\t\tselect\n",
    "\t\t\tn1.n_name as supp_nation,\n",
    "\t\t\tn2.n_name as cust_nation,\n",
    "\t\t\textract(year from l_shipdate) as l_year,\n",
    "\t\t\tl_extendedprice * (1 - l_discount) as volume\n",
    "\t\tfrom\n",
    "\t\t\tsupplier,\n",
    "\t\t\tlineitem,\n",
    "\t\t\torder,\n",
    "\t\t\tcustomer,\n",
    "\t\t\tnation n1,\n",
    "\t\t\tnation n2\n",
    "\t\twhere\n",
    "\t\t\ts_suppkey = l_suppkey\n",
    "\t\t\tand o_orderkey = l_orderkey\n",
    "\t\t\tand c_custkey = o_custkey\n",
    "\t\t\tand s_nationkey = n1.n_nationkey\n",
    "\t\t\tand c_nationkey = n2.n_nationkey\n",
    "\t\t\tand l_shipdate between date '1995-01-01' and date '1996-12-31'\n",
    "\t) as shipping\n",
    "group by\n",
    "\tsupp_nation,\n",
    "\tcust_nation,\n",
    "\tl_year\n",
    "order by\n",
    "\tsupp_nation,\n",
    "\tcust_nation,\n",
    "\tl_year;\n",
    "\"\"\"\n",
    "spark.sql(sql_stm).show()"
   ]
  },
  {
   "cell_type": "code",
   "execution_count": null,
   "id": "392ae0f9-9705-4768-b965-070188203a40",
   "metadata": {},
   "outputs": [],
   "source": []
  }
 ],
 "metadata": {
  "kernelspec": {
   "display_name": "Python 3 (ipykernel)",
   "language": "python",
   "name": "python3"
  },
  "language_info": {
   "codemirror_mode": {
    "name": "ipython",
    "version": 3
   },
   "file_extension": ".py",
   "mimetype": "text/x-python",
   "name": "python",
   "nbconvert_exporter": "python",
   "pygments_lexer": "ipython3",
   "version": "3.8.13"
  }
 },
 "nbformat": 4,
 "nbformat_minor": 5
}
