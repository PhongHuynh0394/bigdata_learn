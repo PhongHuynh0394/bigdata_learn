{
 "cells": [
  {
   "cell_type": "markdown",
   "metadata": {},
   "source": [
    "# SparkSession\n",
    "A SparkSession can be used create DataFrame, register DataFrame as tables, execute SQL over tables, cache tables, and read parquet files.\n",
    "The entry point to programming Spark with the Dataset and DataFrame API."
   ]
  },
  {
   "cell_type": "code",
   "execution_count": 1,
   "metadata": {},
   "outputs": [],
   "source": [
    "from datetime import datetime\n",
    "from pyspark import SparkContext\n",
    "from pyspark.sql import SparkSession, SQLContext"
   ]
  },
  {
   "cell_type": "code",
   "execution_count": 4,
   "metadata": {},
   "outputs": [],
   "source": [
    "spark = (SparkSession.builder.appName(\"pyspark-sql-demo-{}\".format(datetime.today()))\n",
    "        .master(\"spark://spark-master:7077\")      \n",
    "        .getOrCreate())\n",
    "\n",
    "sqlContext = SQLContext(spark)\n",
    "# spark.sparkContext.getConf().getAll()"
   ]
  },
  {
   "cell_type": "code",
   "execution_count": 5,
   "metadata": {},
   "outputs": [
    {
     "data": {
      "text/html": [
       "\n",
       "        <div>\n",
       "            <p><b>SparkContext</b></p>\n",
       "\n",
       "            <p><a href=\"http://74ab95cf4d57:4040\">Spark UI</a></p>\n",
       "\n",
       "            <dl>\n",
       "              <dt>Version</dt>\n",
       "                <dd><code>v3.3.2</code></dd>\n",
       "              <dt>Master</dt>\n",
       "                <dd><code>spark://spark-master:7077</code></dd>\n",
       "              <dt>AppName</dt>\n",
       "                <dd><code>pyspark-sql-demo-2023-03-23 16:51:13.017667</code></dd>\n",
       "            </dl>\n",
       "        </div>\n",
       "        "
      ],
      "text/plain": [
       "<SparkContext master=spark://spark-master:7077 appName=pyspark-sql-demo-2023-03-23 16:51:13.017667>"
      ]
     },
     "execution_count": 5,
     "metadata": {},
     "output_type": "execute_result"
    }
   ],
   "source": [
    "sc = spark.sparkContext\n",
    "sc"
   ]
  },
  {
   "cell_type": "markdown",
   "metadata": {},
   "source": [
    "# Truy vấn nâng cao"
   ]
  },
  {
   "cell_type": "code",
   "execution_count": 6,
   "metadata": {},
   "outputs": [],
   "source": [
    "# load data\n",
    "if \"df_cars\" in locals():\n",
    "    df_cars.unpersist()\n",
    "if \"df_makers\" in locals():\n",
    "    df_makers.unpersist()\n",
    "    \n",
    "df_cars = spark.read \\\n",
    "         .format(\"csv\") \\\n",
    "         .option(\"header\", \"true\") \\\n",
    "         .load(\"s3a://warehouse/bronze/cars.csv\")\n",
    "            \n",
    "df_makers = spark.read \\\n",
    "         .format(\"csv\") \\\n",
    "         .option(\"header\", \"true\") \\\n",
    "         .load(\"s3a://warehouse/bronze/makers.csv\")        \n",
    "            \n",
    "# store as table\n",
    "df_cars.cache()\n",
    "df_makers.cache()\n",
    "sqlContext.registerDataFrameAsTable(df_cars, \"car\")\n",
    "sqlContext.registerDataFrameAsTable(df_makers, \"maker\")"
   ]
  },
  {
   "cell_type": "code",
   "execution_count": 7,
   "metadata": {},
   "outputs": [
    {
     "name": "stdout",
     "output_type": "stream",
     "text": [
      "# Cars schema\n",
      "root\n",
      " |-- id: string (nullable = true)\n",
      " |-- car_name: string (nullable = true)\n",
      " |-- price: string (nullable = true)\n",
      " |-- maker_id: string (nullable = true)\n",
      "\n",
      "+---+------------+-------+--------+\n",
      "| id|    car_name|  price|maker_id|\n",
      "+---+------------+-------+--------+\n",
      "|  1|          X5|5616.38|       2|\n",
      "|  2|     Compass| 1837.4|       7|\n",
      "|  3|   Excursion|1949.55|       2|\n",
      "|  4|    Escalade|8539.64|       3|\n",
      "|  5|Express 3500|2685.09|       4|\n",
      "+---+------------+-------+--------+\n",
      "only showing top 5 rows\n",
      "\n",
      "# Makers schema\n",
      "root\n",
      " |-- id: string (nullable = true)\n",
      " |-- maker_name: string (nullable = true)\n",
      " |-- years: string (nullable = true)\n",
      "\n",
      "+---+----------+-----+\n",
      "| id|maker_name|years|\n",
      "+---+----------+-----+\n",
      "|  1|   Porsche| 2011|\n",
      "|  2|    Nissan| 2011|\n",
      "|  3|     Dodge| 2008|\n",
      "|  4|  Cadillac| 2006|\n",
      "|  5|Land Rover| 2011|\n",
      "+---+----------+-----+\n",
      "only showing top 5 rows\n",
      "\n"
     ]
    }
   ],
   "source": [
    "# view schema and top data\n",
    "print(\"# Cars schema\")\n",
    "df_cars.printSchema()\n",
    "df_cars.show(5)\n",
    "\n",
    "print(\"# Makers schema\")\n",
    "df_makers.printSchema()\n",
    "df_makers.show(5)"
   ]
  },
  {
   "cell_type": "code",
   "execution_count": null,
   "metadata": {},
   "outputs": [],
   "source": []
  },
  {
   "cell_type": "markdown",
   "metadata": {},
   "source": [
    "# Truy vấn lồng\n",
    "Truy vấn lồng là một câu truy vấn mà ở bên trong nội dung của nó có chứa một câu truy vấn con khác.\n",
    "- Truy vấn lồng phân cấp: Khi nội dung của câu truy vấn con độc lập với câu truy vấn cha.\n",
    "- Truy vấn lồng tương quan: Khi nội dung của câu truy vấn con phụ thuộc vào câu truy vấn cha.\n",
    "\n",
    "## Đặt tại mệnh đề SELECT\n",
    "Kết quả của câu truy vấn sẽ như là một giá trị của một thuộc tính."
   ]
  },
  {
   "cell_type": "code",
   "execution_count": 8,
   "metadata": {},
   "outputs": [
    {
     "name": "stdout",
     "output_type": "stream",
     "text": [
      "+----------+-----+\n",
      "|   Hang_Xe|SL_XE|\n",
      "+----------+-----+\n",
      "|   Porsche|   91|\n",
      "|    Nissan|  116|\n",
      "|     Dodge|   98|\n",
      "|  Cadillac|  104|\n",
      "|Land Rover|   82|\n",
      "|     Mazda|  101|\n",
      "|     Isuzu|  100|\n",
      "|   Hyundai|  109|\n",
      "|   Hyundai|   96|\n",
      "| Chevrolet|  103|\n",
      "+----------+-----+\n",
      "\n"
     ]
    }
   ],
   "source": [
    "# Với mỗi hãng xe, cho biết tên của hãng và số lượng xe tương ứng\n",
    "df_sub_queries = sqlContext.sql(\"\"\"\n",
    "    SELECT maker_name AS Hang_Xe, (\n",
    "        SELECT COUNT(*)\n",
    "        FROM car\n",
    "        WHERE car.maker_id = maker.id\n",
    "    ) AS SL_XE\n",
    "    FROM maker\n",
    "\"\"\")\n",
    "df_sub_queries.show()"
   ]
  },
  {
   "cell_type": "code",
   "execution_count": 9,
   "metadata": {},
   "outputs": [
    {
     "name": "stdout",
     "output_type": "stream",
     "text": [
      "== Physical Plan ==\n",
      "AdaptiveSparkPlan isFinalPlan=false\n",
      "+- Project [maker_name#43 AS Hang_Xe#262, if (isnull(alwaysTrue#472)) 0 else count(1)#266L AS SL_XE#264L]\n",
      "   +- BroadcastHashJoin [id#42], [maker_id#20], LeftOuter, BuildRight, false\n",
      "      :- InMemoryTableScan [id#42, maker_name#43]\n",
      "      :     +- InMemoryRelation [id#42, maker_name#43, years#44], StorageLevel(disk, memory, deserialized, 1 replicas)\n",
      "      :           +- FileScan csv [id#42,maker_name#43,years#44] Batched: false, DataFilters: [], Format: CSV, Location: InMemoryFileIndex(1 paths)[s3a://warehouse/bronze/makers.csv], PartitionFilters: [], PushedFilters: [], ReadSchema: struct<id:string,maker_name:string,years:string>\n",
      "      +- BroadcastExchange HashedRelationBroadcastMode(List(input[1, string, true]),false), [plan_id=219]\n",
      "         +- HashAggregate(keys=[maker_id#20], functions=[count(1)])\n",
      "            +- Exchange hashpartitioning(maker_id#20, 200), ENSURE_REQUIREMENTS, [plan_id=216]\n",
      "               +- HashAggregate(keys=[maker_id#20], functions=[partial_count(1)])\n",
      "                  +- Filter isnotnull(maker_id#20)\n",
      "                     +- InMemoryTableScan [maker_id#20], [isnotnull(maker_id#20)]\n",
      "                           +- InMemoryRelation [id#17, car_name#18, price#19, maker_id#20], StorageLevel(disk, memory, deserialized, 1 replicas)\n",
      "                                 +- FileScan csv [id#17,car_name#18,price#19,maker_id#20] Batched: false, DataFilters: [], Format: CSV, Location: InMemoryFileIndex(1 paths)[s3a://warehouse/bronze/cars.csv], PartitionFilters: [], PushedFilters: [], ReadSchema: struct<id:string,car_name:string,price:string,maker_id:string>\n",
      "\n",
      "\n"
     ]
    }
   ],
   "source": [
    "df_sub_queries.explain()"
   ]
  },
  {
   "cell_type": "code",
   "execution_count": null,
   "metadata": {},
   "outputs": [],
   "source": []
  },
  {
   "cell_type": "markdown",
   "metadata": {},
   "source": [
    "## Đặt tại mệnh đề FROM:\n",
    "Kết quả của câu truy vấn sẽ xem như là một bảng dữ liệu, do vậy có thể truy vấn từ bảng dữ liệu này."
   ]
  },
  {
   "cell_type": "code",
   "execution_count": 10,
   "metadata": {
    "scrolled": true
   },
   "outputs": [
    {
     "name": "stdout",
     "output_type": "stream",
     "text": [
      "+---------+---------+\n",
      "| car_name|price_usd|\n",
      "+---------+---------+\n",
      "|       X5|  5616.38|\n",
      "|Excursion|  1949.55|\n",
      "|   Tacoma|  5696.24|\n",
      "|    Tahoe|  7247.84|\n",
      "|  M-Class|  8541.21|\n",
      "+---------+---------+\n",
      "only showing top 5 rows\n",
      "\n"
     ]
    }
   ],
   "source": [
    "# Cho biết tên và giá mỗi xe của hãng Nissan\n",
    "df_sub_queries = sqlContext.sql(\"\"\"\n",
    "    SELECT T.car_name, T.price AS price_usd\n",
    "    FROM (\n",
    "        SELECT *\n",
    "        FROM car\n",
    "        WHERE maker_id = 2\n",
    "    ) AS T\n",
    "\"\"\")\n",
    "df_sub_queries.show(5)"
   ]
  },
  {
   "cell_type": "code",
   "execution_count": 11,
   "metadata": {},
   "outputs": [
    {
     "name": "stdout",
     "output_type": "stream",
     "text": [
      "== Physical Plan ==\n",
      "*(1) Project [car_name#18, price#19 AS price_usd#509]\n",
      "+- *(1) Filter (isnotnull(maker_id#20) AND (cast(maker_id#20 as int) = 2))\n",
      "   +- InMemoryTableScan [car_name#18, maker_id#20, price#19], [isnotnull(maker_id#20), (cast(maker_id#20 as int) = 2)]\n",
      "         +- InMemoryRelation [id#17, car_name#18, price#19, maker_id#20], StorageLevel(disk, memory, deserialized, 1 replicas)\n",
      "               +- FileScan csv [id#17,car_name#18,price#19,maker_id#20] Batched: false, DataFilters: [], Format: CSV, Location: InMemoryFileIndex(1 paths)[s3a://warehouse/bronze/cars.csv], PartitionFilters: [], PushedFilters: [], ReadSchema: struct<id:string,car_name:string,price:string,maker_id:string>\n",
      "\n",
      "\n"
     ]
    }
   ],
   "source": [
    "df_sub_queries.explain()"
   ]
  },
  {
   "cell_type": "code",
   "execution_count": null,
   "metadata": {},
   "outputs": [],
   "source": []
  },
  {
   "cell_type": "markdown",
   "metadata": {},
   "source": [
    "## Đặt tại mệnh đề WHERE:\n",
    "Kết quả của câu truy vấn được sử dụng như một thành phần trong biểu thức điều kiện."
   ]
  },
  {
   "cell_type": "code",
   "execution_count": 12,
   "metadata": {
    "scrolled": true
   },
   "outputs": [
    {
     "name": "stdout",
     "output_type": "stream",
     "text": [
      "+--------+-------+\n",
      "|car_name|  price|\n",
      "+--------+-------+\n",
      "|      X5|5616.38|\n",
      "|Escalade|8539.64|\n",
      "|  Virage|6297.87|\n",
      "|    RX-8|7033.46|\n",
      "| Caravan|3101.49|\n",
      "+--------+-------+\n",
      "only showing top 5 rows\n",
      "\n"
     ]
    }
   ],
   "source": [
    "# Cho biết những xe có giá lớn hơn xe có mã = 5\n",
    "df_sub_queries = sqlContext.sql(\"\"\"\n",
    "    SELECT car_name, price\n",
    "    FROM car\n",
    "    WHERE price > (\n",
    "        SELECT price\n",
    "        FROM car\n",
    "        WHERE id = 5\n",
    "    )\n",
    "\"\"\")\n",
    "df_sub_queries.show(5)"
   ]
  },
  {
   "cell_type": "code",
   "execution_count": 13,
   "metadata": {},
   "outputs": [
    {
     "name": "stdout",
     "output_type": "stream",
     "text": [
      "== Physical Plan ==\n",
      "AdaptiveSparkPlan isFinalPlan=false\n",
      "+- Filter (isnotnull(price#19) AND (price#19 > Subquery subquery#661, [id=#291]))\n",
      "   :  +- Subquery subquery#661, [id=#291]\n",
      "   :     +- AdaptiveSparkPlan isFinalPlan=false\n",
      "   :        +- Project [price#664]\n",
      "   :           +- Filter (isnotnull(id#662) AND (cast(id#662 as int) = 5))\n",
      "   :              +- InMemoryTableScan [id#662, price#664], [isnotnull(id#662), (cast(id#662 as int) = 5)]\n",
      "   :                    +- InMemoryRelation [id#662, car_name#663, price#664, maker_id#665], StorageLevel(disk, memory, deserialized, 1 replicas)\n",
      "   :                          +- FileScan csv [id#17,car_name#18,price#19,maker_id#20] Batched: false, DataFilters: [], Format: CSV, Location: InMemoryFileIndex(1 paths)[s3a://warehouse/bronze/cars.csv], PartitionFilters: [], PushedFilters: [], ReadSchema: struct<id:string,car_name:string,price:string,maker_id:string>\n",
      "   +- InMemoryTableScan [car_name#18, price#19], [isnotnull(price#19), (price#19 > Subquery subquery#661, [id=#291])]\n",
      "         :- InMemoryRelation [id#17, car_name#18, price#19, maker_id#20], StorageLevel(disk, memory, deserialized, 1 replicas)\n",
      "         :     +- FileScan csv [id#17,car_name#18,price#19,maker_id#20] Batched: false, DataFilters: [], Format: CSV, Location: InMemoryFileIndex(1 paths)[s3a://warehouse/bronze/cars.csv], PartitionFilters: [], PushedFilters: [], ReadSchema: struct<id:string,car_name:string,price:string,maker_id:string>\n",
      "         +- Subquery subquery#661, [id=#291]\n",
      "            +- AdaptiveSparkPlan isFinalPlan=false\n",
      "               +- Project [price#664]\n",
      "                  +- Filter (isnotnull(id#662) AND (cast(id#662 as int) = 5))\n",
      "                     +- InMemoryTableScan [id#662, price#664], [isnotnull(id#662), (cast(id#662 as int) = 5)]\n",
      "                           +- InMemoryRelation [id#662, car_name#663, price#664, maker_id#665], StorageLevel(disk, memory, deserialized, 1 replicas)\n",
      "                                 +- FileScan csv [id#17,car_name#18,price#19,maker_id#20] Batched: false, DataFilters: [], Format: CSV, Location: InMemoryFileIndex(1 paths)[s3a://warehouse/bronze/cars.csv], PartitionFilters: [], PushedFilters: [], ReadSchema: struct<id:string,car_name:string,price:string,maker_id:string>\n",
      "\n",
      "\n"
     ]
    }
   ],
   "source": [
    "df_sub_queries.explain()"
   ]
  },
  {
   "cell_type": "code",
   "execution_count": null,
   "metadata": {},
   "outputs": [],
   "source": []
  },
  {
   "cell_type": "markdown",
   "metadata": {},
   "source": [
    "## Truy vấn lồng phân cấp với toán tử IN\n",
    "Toán tử IN dùng để kiểm tra một giá trị có nằm trong một tập hợp nào đó hay không. Tập hợp đó có thể là kết quả của một câu truy vấn hoặc một tập hợp tường minh"
   ]
  },
  {
   "cell_type": "code",
   "execution_count": 14,
   "metadata": {
    "scrolled": true
   },
   "outputs": [
    {
     "name": "stdout",
     "output_type": "stream",
     "text": [
      "+------------+-------+\n",
      "|    car_name|  price|\n",
      "+------------+-------+\n",
      "|     Compass| 1837.4|\n",
      "|   Excursion|1949.55|\n",
      "|Express 3500|2685.09|\n",
      "|   Fleetwood|1016.99|\n",
      "|   Cabriolet|1185.46|\n",
      "+------------+-------+\n",
      "only showing top 5 rows\n",
      "\n"
     ]
    }
   ],
   "source": [
    "# Cho biết các xe có giá nhỏ hơn 3000 USD\n",
    "df_sub_queries = sqlContext.sql(\"\"\"\n",
    "    SELECT car_name, price\n",
    "    FROM car\n",
    "    WHERE id NOT IN (\n",
    "        SELECT id\n",
    "        FROM car\n",
    "        WHERE price > 3000\n",
    "    )\n",
    "\"\"\")\n",
    "df_sub_queries.show(5)"
   ]
  },
  {
   "cell_type": "code",
   "execution_count": 15,
   "metadata": {},
   "outputs": [
    {
     "name": "stdout",
     "output_type": "stream",
     "text": [
      "== Physical Plan ==\n",
      "AdaptiveSparkPlan isFinalPlan=false\n",
      "+- Project [car_name#18, price#19]\n",
      "   +- BroadcastHashJoin [id#17], [id#1018], LeftAnti, BuildRight, true\n",
      "      :- InMemoryTableScan [id#17, car_name#18, price#19]\n",
      "      :     +- InMemoryRelation [id#17, car_name#18, price#19, maker_id#20], StorageLevel(disk, memory, deserialized, 1 replicas)\n",
      "      :           +- FileScan csv [id#17,car_name#18,price#19,maker_id#20] Batched: false, DataFilters: [], Format: CSV, Location: InMemoryFileIndex(1 paths)[s3a://warehouse/bronze/cars.csv], PartitionFilters: [], PushedFilters: [], ReadSchema: struct<id:string,car_name:string,price:string,maker_id:string>\n",
      "      +- BroadcastExchange HashedRelationBroadcastMode(List(input[0, string, true]),true), [plan_id=383]\n",
      "         +- Project [id#1018]\n",
      "            +- Filter (isnotnull(price#1020) AND (cast(price#1020 as int) > 3000))\n",
      "               +- InMemoryTableScan [id#1018, price#1020], [isnotnull(price#1020), (cast(price#1020 as int) > 3000)]\n",
      "                     +- InMemoryRelation [id#1018, car_name#1019, price#1020, maker_id#1021], StorageLevel(disk, memory, deserialized, 1 replicas)\n",
      "                           +- FileScan csv [id#17,car_name#18,price#19,maker_id#20] Batched: false, DataFilters: [], Format: CSV, Location: InMemoryFileIndex(1 paths)[s3a://warehouse/bronze/cars.csv], PartitionFilters: [], PushedFilters: [], ReadSchema: struct<id:string,car_name:string,price:string,maker_id:string>\n",
      "\n",
      "\n"
     ]
    }
   ],
   "source": [
    "df_sub_queries.explain()"
   ]
  },
  {
   "cell_type": "code",
   "execution_count": null,
   "metadata": {},
   "outputs": [],
   "source": []
  },
  {
   "cell_type": "markdown",
   "metadata": {},
   "source": [
    "## Truy vấn lồng tương quan với EXISTS"
   ]
  },
  {
   "cell_type": "code",
   "execution_count": 16,
   "metadata": {},
   "outputs": [
    {
     "name": "stdout",
     "output_type": "stream",
     "text": [
      "+------------+\n",
      "|    car_name|\n",
      "+------------+\n",
      "|          X5|\n",
      "|     Compass|\n",
      "|   Excursion|\n",
      "|    Escalade|\n",
      "|Express 3500|\n",
      "+------------+\n",
      "only showing top 5 rows\n",
      "\n"
     ]
    }
   ],
   "source": [
    "# Tìm xe không phải hãng Nissan\n",
    "df_sub_queries = sqlContext.sql(\"\"\"\n",
    "    SELECT car_name\n",
    "    FROM car\n",
    "    WHERE NOT EXISTS (\n",
    "        SELECT *\n",
    "        FROM maker\n",
    "        WHERE car.maker_id = maker.id\n",
    "        AND maker.id = 5\n",
    "    )\n",
    "\"\"\")\n",
    "df_sub_queries.show(5)"
   ]
  },
  {
   "cell_type": "code",
   "execution_count": 17,
   "metadata": {},
   "outputs": [
    {
     "name": "stdout",
     "output_type": "stream",
     "text": [
      "== Physical Plan ==\n",
      "AdaptiveSparkPlan isFinalPlan=false\n",
      "+- Project [car_name#18]\n",
      "   +- BroadcastHashJoin [maker_id#20], [id#42], LeftAnti, BuildRight, false\n",
      "      :- InMemoryTableScan [car_name#18, maker_id#20]\n",
      "      :     +- InMemoryRelation [id#17, car_name#18, price#19, maker_id#20], StorageLevel(disk, memory, deserialized, 1 replicas)\n",
      "      :           +- FileScan csv [id#17,car_name#18,price#19,maker_id#20] Batched: false, DataFilters: [], Format: CSV, Location: InMemoryFileIndex(1 paths)[s3a://warehouse/bronze/cars.csv], PartitionFilters: [], PushedFilters: [], ReadSchema: struct<id:string,car_name:string,price:string,maker_id:string>\n",
      "      +- BroadcastExchange HashedRelationBroadcastMode(List(input[0, string, false]),false), [plan_id=464]\n",
      "         +- Filter (isnotnull(id#42) AND (cast(id#42 as int) = 5))\n",
      "            +- InMemoryTableScan [id#42], [isnotnull(id#42), (cast(id#42 as int) = 5)]\n",
      "                  +- InMemoryRelation [id#42, maker_name#43, years#44], StorageLevel(disk, memory, deserialized, 1 replicas)\n",
      "                        +- FileScan csv [id#42,maker_name#43,years#44] Batched: false, DataFilters: [], Format: CSV, Location: InMemoryFileIndex(1 paths)[s3a://warehouse/bronze/makers.csv], PartitionFilters: [], PushedFilters: [], ReadSchema: struct<id:string,maker_name:string,years:string>\n",
      "\n",
      "\n"
     ]
    }
   ],
   "source": [
    "df_sub_queries.explain()"
   ]
  },
  {
   "cell_type": "code",
   "execution_count": null,
   "metadata": {},
   "outputs": [],
   "source": []
  },
  {
   "cell_type": "markdown",
   "metadata": {},
   "source": [
    "## Ví dụ khác về truy vấn lồng tương quan"
   ]
  },
  {
   "cell_type": "code",
   "execution_count": 18,
   "metadata": {},
   "outputs": [
    {
     "name": "stdout",
     "output_type": "stream",
     "text": [
      "+--------+-------+\n",
      "|car_name|  price|\n",
      "+--------+-------+\n",
      "|      X5|5616.38|\n",
      "|Escalade|8539.64|\n",
      "|  Virage|6297.87|\n",
      "|    RX-8|7033.46|\n",
      "|      X3|9361.88|\n",
      "+--------+-------+\n",
      "only showing top 5 rows\n",
      "\n"
     ]
    }
   ],
   "source": [
    "# Cho biết các xe có giá lớn hơn giá trung bình của hãng xe đó sản xuất\n",
    "df_sub_queries = sqlContext.sql(\"\"\"\n",
    "    SELECT car_name, price\n",
    "    FROM car AS car1\n",
    "    WHERE car1.price > (\n",
    "        SELECT AVG(car2.price)\n",
    "        FROM car AS car2\n",
    "        WHERE car2.maker_id = car1.maker_id\n",
    "    )\n",
    "\"\"\")\n",
    "df_sub_queries.show(5)"
   ]
  },
  {
   "cell_type": "code",
   "execution_count": 19,
   "metadata": {},
   "outputs": [
    {
     "name": "stdout",
     "output_type": "stream",
     "text": [
      "== Physical Plan ==\n",
      "AdaptiveSparkPlan isFinalPlan=false\n",
      "+- Project [car_name#18, price#19]\n",
      "   +- BroadcastHashJoin [maker_id#20], [maker_id#1646], Inner, BuildRight, (cast(price#19 as double) > avg(price)#1642), false\n",
      "      :- Filter (isnotnull(price#19) AND isnotnull(maker_id#20))\n",
      "      :  +- InMemoryTableScan [car_name#18, price#19, maker_id#20], [isnotnull(price#19), isnotnull(maker_id#20)]\n",
      "      :        +- InMemoryRelation [id#17, car_name#18, price#19, maker_id#20], StorageLevel(disk, memory, deserialized, 1 replicas)\n",
      "      :              +- FileScan csv [id#17,car_name#18,price#19,maker_id#20] Batched: false, DataFilters: [], Format: CSV, Location: InMemoryFileIndex(1 paths)[s3a://warehouse/bronze/cars.csv], PartitionFilters: [], PushedFilters: [], ReadSchema: struct<id:string,car_name:string,price:string,maker_id:string>\n",
      "      +- BroadcastExchange HashedRelationBroadcastMode(List(input[1, string, true]),false), [plan_id=642]\n",
      "         +- Filter isnotnull(avg(price)#1642)\n",
      "            +- HashAggregate(keys=[maker_id#1646], functions=[avg(cast(price#1645 as double))])\n",
      "               +- Exchange hashpartitioning(maker_id#1646, 200), ENSURE_REQUIREMENTS, [plan_id=638]\n",
      "                  +- HashAggregate(keys=[maker_id#1646], functions=[partial_avg(cast(price#1645 as double))])\n",
      "                     +- Filter isnotnull(maker_id#1646)\n",
      "                        +- InMemoryTableScan [price#1645, maker_id#1646], [isnotnull(maker_id#1646)]\n",
      "                              +- InMemoryRelation [id#1643, car_name#1644, price#1645, maker_id#1646], StorageLevel(disk, memory, deserialized, 1 replicas)\n",
      "                                    +- FileScan csv [id#17,car_name#18,price#19,maker_id#20] Batched: false, DataFilters: [], Format: CSV, Location: InMemoryFileIndex(1 paths)[s3a://warehouse/bronze/cars.csv], PartitionFilters: [], PushedFilters: [], ReadSchema: struct<id:string,car_name:string,price:string,maker_id:string>\n",
      "\n",
      "\n"
     ]
    }
   ],
   "source": [
    "df_sub_queries.explain()"
   ]
  },
  {
   "cell_type": "code",
   "execution_count": null,
   "metadata": {},
   "outputs": [],
   "source": []
  },
  {
   "cell_type": "code",
   "execution_count": 20,
   "metadata": {},
   "outputs": [
    {
     "name": "stdout",
     "output_type": "stream",
     "text": [
      "+--------+-------+\n",
      "|car_name|  price|\n",
      "+--------+-------+\n",
      "|     100|9986.79|\n",
      "+--------+-------+\n",
      "\n"
     ]
    }
   ],
   "source": [
    "# Cho biết các xe có giá cao nhất\n",
    "df_sub_queries = sqlContext.sql(\"\"\"\n",
    "    SELECT car_name, price\n",
    "    FROM car\n",
    "    WHERE price = (\n",
    "        SELECT MAX(price)\n",
    "        FROM car\n",
    "    )\n",
    "\"\"\")\n",
    "df_sub_queries.show(5)"
   ]
  },
  {
   "cell_type": "code",
   "execution_count": 21,
   "metadata": {},
   "outputs": [
    {
     "name": "stdout",
     "output_type": "stream",
     "text": [
      "== Physical Plan ==\n",
      "AdaptiveSparkPlan isFinalPlan=false\n",
      "+- Filter (isnotnull(price#19) AND (price#19 = Subquery subquery#1970, [id=#698]))\n",
      "   :  +- Subquery subquery#1970, [id=#698]\n",
      "   :     +- AdaptiveSparkPlan isFinalPlan=false\n",
      "   :        +- SortAggregate(key=[], functions=[max(price#1975)])\n",
      "   :           +- Exchange SinglePartition, ENSURE_REQUIREMENTS, [plan_id=696]\n",
      "   :              +- SortAggregate(key=[], functions=[partial_max(price#1975)])\n",
      "   :                 +- InMemoryTableScan [price#1975]\n",
      "   :                       +- InMemoryRelation [id#1973, car_name#1974, price#1975, maker_id#1976], StorageLevel(disk, memory, deserialized, 1 replicas)\n",
      "   :                             +- FileScan csv [id#17,car_name#18,price#19,maker_id#20] Batched: false, DataFilters: [], Format: CSV, Location: InMemoryFileIndex(1 paths)[s3a://warehouse/bronze/cars.csv], PartitionFilters: [], PushedFilters: [], ReadSchema: struct<id:string,car_name:string,price:string,maker_id:string>\n",
      "   +- InMemoryTableScan [car_name#18, price#19], [isnotnull(price#19), (price#19 = Subquery subquery#1970, [id=#698])]\n",
      "         :- InMemoryRelation [id#17, car_name#18, price#19, maker_id#20], StorageLevel(disk, memory, deserialized, 1 replicas)\n",
      "         :     +- FileScan csv [id#17,car_name#18,price#19,maker_id#20] Batched: false, DataFilters: [], Format: CSV, Location: InMemoryFileIndex(1 paths)[s3a://warehouse/bronze/cars.csv], PartitionFilters: [], PushedFilters: [], ReadSchema: struct<id:string,car_name:string,price:string,maker_id:string>\n",
      "         +- Subquery subquery#1970, [id=#698]\n",
      "            +- AdaptiveSparkPlan isFinalPlan=false\n",
      "               +- SortAggregate(key=[], functions=[max(price#1975)])\n",
      "                  +- Exchange SinglePartition, ENSURE_REQUIREMENTS, [plan_id=696]\n",
      "                     +- SortAggregate(key=[], functions=[partial_max(price#1975)])\n",
      "                        +- InMemoryTableScan [price#1975]\n",
      "                              +- InMemoryRelation [id#1973, car_name#1974, price#1975, maker_id#1976], StorageLevel(disk, memory, deserialized, 1 replicas)\n",
      "                                    +- FileScan csv [id#17,car_name#18,price#19,maker_id#20] Batched: false, DataFilters: [], Format: CSV, Location: InMemoryFileIndex(1 paths)[s3a://warehouse/bronze/cars.csv], PartitionFilters: [], PushedFilters: [], ReadSchema: struct<id:string,car_name:string,price:string,maker_id:string>\n",
      "\n",
      "\n"
     ]
    }
   ],
   "source": [
    "df_sub_queries.explain()"
   ]
  },
  {
   "cell_type": "code",
   "execution_count": null,
   "metadata": {},
   "outputs": [],
   "source": []
  },
  {
   "cell_type": "code",
   "execution_count": 22,
   "metadata": {},
   "outputs": [
    {
     "name": "stdout",
     "output_type": "stream",
     "text": [
      "+--------+\n",
      "|maker_id|\n",
      "+--------+\n",
      "|       2|\n",
      "+--------+\n",
      "\n"
     ]
    }
   ],
   "source": [
    "# Cho biết các hãng sản xuất nhiều xe nhất\n",
    "df_sub_queries = sqlContext.sql(\"\"\"\n",
    "    SELECT maker_id\n",
    "    FROM car\n",
    "    GROUP BY maker_id\n",
    "    HAVING COUNT(*) = (\n",
    "        SELECT MAX(SL_XE)\n",
    "        FROM (\n",
    "            SELECT COUNT(*) AS SL_XE\n",
    "            FROM car\n",
    "            GROUP BY maker_id\n",
    "        )\n",
    "    )\n",
    "\"\"\")\n",
    "df_sub_queries.show(5)"
   ]
  },
  {
   "cell_type": "code",
   "execution_count": 23,
   "metadata": {},
   "outputs": [
    {
     "name": "stdout",
     "output_type": "stream",
     "text": [
      "== Physical Plan ==\n",
      "AdaptiveSparkPlan isFinalPlan=false\n",
      "+- Project [maker_id#20]\n",
      "   +- Filter (count(1)#2340L = Subquery subquery#2334, [id=#901])\n",
      "      :  +- Subquery subquery#2334, [id=#901]\n",
      "      :     +- AdaptiveSparkPlan isFinalPlan=false\n",
      "      :        +- HashAggregate(keys=[], functions=[max(SL_XE#2333L)])\n",
      "      :           +- Exchange SinglePartition, ENSURE_REQUIREMENTS, [plan_id=899]\n",
      "      :              +- HashAggregate(keys=[], functions=[partial_max(SL_XE#2333L)])\n",
      "      :                 +- HashAggregate(keys=[maker_id#2344], functions=[count(1)])\n",
      "      :                    +- Exchange hashpartitioning(maker_id#2344, 200), ENSURE_REQUIREMENTS, [plan_id=895]\n",
      "      :                       +- HashAggregate(keys=[maker_id#2344], functions=[partial_count(1)])\n",
      "      :                          +- InMemoryTableScan [maker_id#2344]\n",
      "      :                                +- InMemoryRelation [id#2341, car_name#2342, price#2343, maker_id#2344], StorageLevel(disk, memory, deserialized, 1 replicas)\n",
      "      :                                      +- FileScan csv [id#17,car_name#18,price#19,maker_id#20] Batched: false, DataFilters: [], Format: CSV, Location: InMemoryFileIndex(1 paths)[s3a://warehouse/bronze/cars.csv], PartitionFilters: [], PushedFilters: [], ReadSchema: struct<id:string,car_name:string,price:string,maker_id:string>\n",
      "      +- HashAggregate(keys=[maker_id#20], functions=[count(1)])\n",
      "         +- Exchange hashpartitioning(maker_id#20, 200), ENSURE_REQUIREMENTS, [plan_id=905]\n",
      "            +- HashAggregate(keys=[maker_id#20], functions=[partial_count(1)])\n",
      "               +- InMemoryTableScan [maker_id#20]\n",
      "                     +- InMemoryRelation [id#17, car_name#18, price#19, maker_id#20], StorageLevel(disk, memory, deserialized, 1 replicas)\n",
      "                           +- FileScan csv [id#17,car_name#18,price#19,maker_id#20] Batched: false, DataFilters: [], Format: CSV, Location: InMemoryFileIndex(1 paths)[s3a://warehouse/bronze/cars.csv], PartitionFilters: [], PushedFilters: [], ReadSchema: struct<id:string,car_name:string,price:string,maker_id:string>\n",
      "\n",
      "\n"
     ]
    }
   ],
   "source": [
    "df_sub_queries.explain()"
   ]
  },
  {
   "cell_type": "code",
   "execution_count": null,
   "metadata": {},
   "outputs": [],
   "source": []
  },
  {
   "cell_type": "markdown",
   "metadata": {},
   "source": [
    "# Truy vấn khác"
   ]
  },
  {
   "cell_type": "code",
   "execution_count": 24,
   "metadata": {},
   "outputs": [
    {
     "name": "stdout",
     "output_type": "stream",
     "text": [
      "+------------+-------+----------+-----+\n",
      "|    car_name|  price|maker_name|years|\n",
      "+------------+-------+----------+-----+\n",
      "|          X5|5616.38|    Nissan| 2011|\n",
      "|     Compass| 1837.4|     Isuzu| 1998|\n",
      "|   Excursion|1949.55|    Nissan| 2011|\n",
      "|    Escalade|8539.64|     Dodge| 2008|\n",
      "|Express 3500|2685.09|  Cadillac| 2006|\n",
      "+------------+-------+----------+-----+\n",
      "only showing top 5 rows\n",
      "\n"
     ]
    }
   ],
   "source": [
    "# create inventory by joining cars and makers\n",
    "if \"df_inventory\" in locals():\n",
    "    df_inventory.unpersist()\n",
    "    \n",
    "df_inventory = sqlContext.sql(\"\"\"\n",
    "    SELECT car_name, price, maker_name, years\n",
    "    FROM car\n",
    "    JOIN maker\n",
    "    ON car.maker_id = maker.id\n",
    "\"\"\")\n",
    "df_inventory.show(5)\n",
    "\n",
    "# store as table\n",
    "df_inventory.cache()\n",
    "sqlContext.registerDataFrameAsTable(df_inventory, \"inventory\")"
   ]
  },
  {
   "cell_type": "code",
   "execution_count": 25,
   "metadata": {},
   "outputs": [
    {
     "name": "stdout",
     "output_type": "stream",
     "text": [
      "== Physical Plan ==\n",
      "InMemoryTableScan [car_name#18, price#19, maker_name#43, years#44]\n",
      "   +- InMemoryRelation [car_name#18, price#19, maker_name#43, years#44], StorageLevel(disk, memory, deserialized, 1 replicas)\n",
      "         +- *(2) Project [car_name#18, price#19, maker_name#43, years#44]\n",
      "            +- *(2) BroadcastHashJoin [maker_id#20], [id#42], Inner, BuildRight, false\n",
      "               :- *(2) Filter isnotnull(maker_id#20)\n",
      "               :  +- InMemoryTableScan [car_name#18, price#19, maker_id#20], [isnotnull(maker_id#20)]\n",
      "               :        +- InMemoryRelation [id#17, car_name#18, price#19, maker_id#20], StorageLevel(disk, memory, deserialized, 1 replicas)\n",
      "               :              +- FileScan csv [id#17,car_name#18,price#19,maker_id#20] Batched: false, DataFilters: [], Format: CSV, Location: InMemoryFileIndex(1 paths)[s3a://warehouse/bronze/cars.csv], PartitionFilters: [], PushedFilters: [], ReadSchema: struct<id:string,car_name:string,price:string,maker_id:string>\n",
      "               +- BroadcastExchange HashedRelationBroadcastMode(List(input[0, string, false]),false), [plan_id=1000]\n",
      "                  +- *(1) Filter isnotnull(id#42)\n",
      "                     +- InMemoryTableScan [id#42, maker_name#43, years#44], [isnotnull(id#42)]\n",
      "                           +- InMemoryRelation [id#42, maker_name#43, years#44], StorageLevel(disk, memory, deserialized, 1 replicas)\n",
      "                                 +- FileScan csv [id#42,maker_name#43,years#44] Batched: false, DataFilters: [], Format: CSV, Location: InMemoryFileIndex(1 paths)[s3a://warehouse/bronze/makers.csv], PartitionFilters: [], PushedFilters: [], ReadSchema: struct<id:string,maker_name:string,years:string>\n",
      "\n",
      "\n"
     ]
    }
   ],
   "source": [
    "df_inventory.explain()"
   ]
  },
  {
   "cell_type": "code",
   "execution_count": null,
   "metadata": {},
   "outputs": [],
   "source": []
  },
  {
   "cell_type": "markdown",
   "metadata": {},
   "source": [
    "## Tổng hợp sử dụng CUBE"
   ]
  },
  {
   "cell_type": "code",
   "execution_count": 26,
   "metadata": {
    "scrolled": true
   },
   "outputs": [
    {
     "name": "stdout",
     "output_type": "stream",
     "text": [
      "+-------------+----------+----------+\n",
      "|     car_name|maker_name|TotalPrice|\n",
      "+-------------+----------+----------+\n",
      "|      Impreza|     Isuzu|   8235.85|\n",
      "|       Blazer|   Hyundai|    3030.1|\n",
      "|        Amigo|    Nissan|  14082.82|\n",
      "|         MX-5|   Hyundai|  14614.16|\n",
      "|      Tribute|     Mazda|   9091.44|\n",
      "|     Ram 2500|    Nissan|   8612.41|\n",
      "|        Ghost|   Hyundai|   5244.89|\n",
      "|Suburban 1500|      null|   11556.9|\n",
      "|        Talon|     Dodge|   6080.36|\n",
      "|          MPV|     Dodge|    1492.7|\n",
      "+-------------+----------+----------+\n",
      "only showing top 10 rows\n",
      "\n"
     ]
    }
   ],
   "source": [
    "# Tổng hợp tổng giá trị của các xe theo:\n",
    "# - Tên xe và tên hãng\n",
    "# - Từng tên xe\n",
    "# - Từng hãng\n",
    "# - Tổng giá trị\n",
    "\n",
    "# Output:\n",
    "# - Ranger, Land Rover, 7535.8: tổng giá trị xe Ranger, hãng Land Rover là 7535.8\n",
    "# - Chariot, null, 7867.58: tổng giá trị xe Chariot, hãng bất kỳ là 7867.58\n",
    "# - null, null, 5396393.689999999: tổng giá trị các xe từ các hãng là 5396393.689999999\n",
    "# - null, Cadillac, 544548.9600000001: tổng giá trị từ hãng Cadillac là 544548.9600000001\n",
    "\n",
    "df_compute = sqlContext.sql(\"\"\"\n",
    "    SELECT car_name, maker_name, SUM(price) AS TotalPrice\n",
    "    FROM inventory\n",
    "    GROUP BY car_name, maker_name WITH CUBE\n",
    "\"\"\")\n",
    "df_compute.show(10)"
   ]
  },
  {
   "cell_type": "code",
   "execution_count": 27,
   "metadata": {},
   "outputs": [
    {
     "name": "stdout",
     "output_type": "stream",
     "text": [
      "== Physical Plan ==\n",
      "AdaptiveSparkPlan isFinalPlan=false\n",
      "+- HashAggregate(keys=[car_name#3105, maker_name#3106, spark_grouping_id#3104L], functions=[sum(cast(price#19 as double))])\n",
      "   +- Exchange hashpartitioning(car_name#3105, maker_name#3106, spark_grouping_id#3104L, 200), ENSURE_REQUIREMENTS, [plan_id=1086]\n",
      "      +- HashAggregate(keys=[car_name#3105, maker_name#3106, spark_grouping_id#3104L], functions=[partial_sum(cast(price#19 as double))])\n",
      "         +- Expand [[price#19, car_name#18, maker_name#43, 0], [price#19, car_name#18, null, 1], [price#19, null, maker_name#43, 2], [price#19, null, null, 3]], [price#19, car_name#3105, maker_name#3106, spark_grouping_id#3104L]\n",
      "            +- InMemoryTableScan [price#19, car_name#18, maker_name#43]\n",
      "                  +- InMemoryRelation [car_name#18, price#19, maker_name#43, years#44], StorageLevel(disk, memory, deserialized, 1 replicas)\n",
      "                        +- *(2) Project [car_name#18, price#19, maker_name#43, years#44]\n",
      "                           +- *(2) BroadcastHashJoin [maker_id#20], [id#42], Inner, BuildRight, false\n",
      "                              :- *(2) Filter isnotnull(maker_id#20)\n",
      "                              :  +- InMemoryTableScan [car_name#18, price#19, maker_id#20], [isnotnull(maker_id#20)]\n",
      "                              :        +- InMemoryRelation [id#17, car_name#18, price#19, maker_id#20], StorageLevel(disk, memory, deserialized, 1 replicas)\n",
      "                              :              +- FileScan csv [id#17,car_name#18,price#19,maker_id#20] Batched: false, DataFilters: [], Format: CSV, Location: InMemoryFileIndex(1 paths)[s3a://warehouse/bronze/cars.csv], PartitionFilters: [], PushedFilters: [], ReadSchema: struct<id:string,car_name:string,price:string,maker_id:string>\n",
      "                              +- BroadcastExchange HashedRelationBroadcastMode(List(input[0, string, false]),false), [plan_id=1000]\n",
      "                                 +- *(1) Filter isnotnull(id#42)\n",
      "                                    +- InMemoryTableScan [id#42, maker_name#43, years#44], [isnotnull(id#42)]\n",
      "                                          +- InMemoryRelation [id#42, maker_name#43, years#44], StorageLevel(disk, memory, deserialized, 1 replicas)\n",
      "                                                +- FileScan csv [id#42,maker_name#43,years#44] Batched: false, DataFilters: [], Format: CSV, Location: InMemoryFileIndex(1 paths)[s3a://warehouse/bronze/makers.csv], PartitionFilters: [], PushedFilters: [], ReadSchema: struct<id:string,maker_name:string,years:string>\n",
      "\n",
      "\n"
     ]
    }
   ],
   "source": [
    "df_compute.explain()"
   ]
  },
  {
   "cell_type": "code",
   "execution_count": null,
   "metadata": {},
   "outputs": [],
   "source": []
  },
  {
   "cell_type": "markdown",
   "metadata": {},
   "source": [
    "## Tổng hợp sử dụng ROLLUP"
   ]
  },
  {
   "cell_type": "code",
   "execution_count": 28,
   "metadata": {},
   "outputs": [
    {
     "name": "stdout",
     "output_type": "stream",
     "text": [
      "+-------------+----------+----------+\n",
      "|     car_name|maker_name|TotalPrice|\n",
      "+-------------+----------+----------+\n",
      "|      Impreza|     Isuzu|   8235.85|\n",
      "|       Blazer|   Hyundai|    3030.1|\n",
      "|        Amigo|    Nissan|  14082.82|\n",
      "|         MX-5|   Hyundai|  14614.16|\n",
      "|      Tribute|     Mazda|   9091.44|\n",
      "|     Ram 2500|    Nissan|   8612.41|\n",
      "|        Ghost|   Hyundai|   5244.89|\n",
      "|Suburban 1500|      null|   11556.9|\n",
      "|        Talon|     Dodge|   6080.36|\n",
      "|          MPV|     Dodge|    1492.7|\n",
      "+-------------+----------+----------+\n",
      "only showing top 10 rows\n",
      "\n"
     ]
    }
   ],
   "source": [
    "# Tổng hợp tổng giá trị của các xe theo:\n",
    "# - Tên xe và tên hãng\n",
    "# - Từng tên xe\n",
    "# - Tổng giá trị\n",
    "\n",
    "# Output:\n",
    "# - Ranger, Land Rover, 7535.8: tổng giá trị xe Ranger, hãng Land Rover là 7535.8\n",
    "# - Chariot, null, 7867.58: tổng giá trị xe Chariot, hãng bất kỳ là 7867.58\n",
    "# - null, null, 5396393.689999999: tổng giá trị các xe từ các hãng là 5396393.689999999\n",
    "\n",
    "df_compute = sqlContext.sql(\"\"\"\n",
    "    SELECT car_name, maker_name, SUM(price) AS TotalPrice\n",
    "    FROM inventory\n",
    "    GROUP BY car_name, maker_name WITH ROLLUP\n",
    "\"\"\")\n",
    "df_compute.show(10)"
   ]
  },
  {
   "cell_type": "code",
   "execution_count": 29,
   "metadata": {
    "tags": []
   },
   "outputs": [
    {
     "name": "stdout",
     "output_type": "stream",
     "text": [
      "== Physical Plan ==\n",
      "AdaptiveSparkPlan isFinalPlan=false\n",
      "+- HashAggregate(keys=[car_name#3327, maker_name#3328, spark_grouping_id#3326L], functions=[sum(cast(price#19 as double))])\n",
      "   +- Exchange hashpartitioning(car_name#3327, maker_name#3328, spark_grouping_id#3326L, 200), ENSURE_REQUIREMENTS, [plan_id=1157]\n",
      "      +- HashAggregate(keys=[car_name#3327, maker_name#3328, spark_grouping_id#3326L], functions=[partial_sum(cast(price#19 as double))])\n",
      "         +- Expand [[price#19, car_name#18, maker_name#43, 0], [price#19, car_name#18, null, 1], [price#19, null, null, 3]], [price#19, car_name#3327, maker_name#3328, spark_grouping_id#3326L]\n",
      "            +- InMemoryTableScan [price#19, car_name#18, maker_name#43]\n",
      "                  +- InMemoryRelation [car_name#18, price#19, maker_name#43, years#44], StorageLevel(disk, memory, deserialized, 1 replicas)\n",
      "                        +- *(2) Project [car_name#18, price#19, maker_name#43, years#44]\n",
      "                           +- *(2) BroadcastHashJoin [maker_id#20], [id#42], Inner, BuildRight, false\n",
      "                              :- *(2) Filter isnotnull(maker_id#20)\n",
      "                              :  +- InMemoryTableScan [car_name#18, price#19, maker_id#20], [isnotnull(maker_id#20)]\n",
      "                              :        +- InMemoryRelation [id#17, car_name#18, price#19, maker_id#20], StorageLevel(disk, memory, deserialized, 1 replicas)\n",
      "                              :              +- FileScan csv [id#17,car_name#18,price#19,maker_id#20] Batched: false, DataFilters: [], Format: CSV, Location: InMemoryFileIndex(1 paths)[s3a://warehouse/bronze/cars.csv], PartitionFilters: [], PushedFilters: [], ReadSchema: struct<id:string,car_name:string,price:string,maker_id:string>\n",
      "                              +- BroadcastExchange HashedRelationBroadcastMode(List(input[0, string, false]),false), [plan_id=1000]\n",
      "                                 +- *(1) Filter isnotnull(id#42)\n",
      "                                    +- InMemoryTableScan [id#42, maker_name#43, years#44], [isnotnull(id#42)]\n",
      "                                          +- InMemoryRelation [id#42, maker_name#43, years#44], StorageLevel(disk, memory, deserialized, 1 replicas)\n",
      "                                                +- FileScan csv [id#42,maker_name#43,years#44] Batched: false, DataFilters: [], Format: CSV, Location: InMemoryFileIndex(1 paths)[s3a://warehouse/bronze/makers.csv], PartitionFilters: [], PushedFilters: [], ReadSchema: struct<id:string,maker_name:string,years:string>\n",
      "\n",
      "\n"
     ]
    }
   ],
   "source": [
    "df_compute.explain()"
   ]
  },
  {
   "cell_type": "code",
   "execution_count": null,
   "metadata": {},
   "outputs": [],
   "source": []
  }
 ],
 "metadata": {
  "kernelspec": {
   "display_name": "Python 3 (ipykernel)",
   "language": "python",
   "name": "python3"
  },
  "language_info": {
   "codemirror_mode": {
    "name": "ipython",
    "version": 3
   },
   "file_extension": ".py",
   "mimetype": "text/x-python",
   "name": "python",
   "nbconvert_exporter": "python",
   "pygments_lexer": "ipython3",
   "version": "3.8.13"
  }
 },
 "nbformat": 4,
 "nbformat_minor": 4
}
